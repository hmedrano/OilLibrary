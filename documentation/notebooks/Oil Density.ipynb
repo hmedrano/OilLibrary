{
 "cells": [
  {
   "cell_type": "code",
   "execution_count": 1,
   "metadata": {},
   "outputs": [],
   "source": [
    "# imports\n",
    "import numpy as np\n",
    "import matplotlib.pyplot as plt\n",
    "% matplotlib inline"
   ]
  },
  {
   "cell_type": "markdown",
   "metadata": {},
   "source": [
    "# Oil Density Estimation\n",
    "\n",
    "## A Description of the Methods Used (Including Some Examples)\n",
    "\n",
    "### Background:\n",
    "\n",
    "The density of a substance is a fairly important piece of information to know in regards to oil spill response.  If an oil is released into a body of water, its relative density to that body of water will indicate whether the oil will float on top of the water surface, or whether it will gradually sink below the surface.\n",
    "\n",
    "There are two general properties in an oil record that indicate its initial density.  Those are the oils **API** gravity, and its **measured density**.\n",
    "\n",
    "An oil's API gravity is a measure of how heavy or light it is compared to water, as defined by the\n",
    "**A**merican **P**etroleum **I**nstitute. As such it is essentially a different unit for the density of the oil at standard temperature (and pressure). If there is a measured density (at 15C) and an API in a given record, the values should match, or there is an error in the record.\n",
    "\n",
    "\n",
    "**API** gravity is defined by the following formula:"
   ]
  },
  {
   "cell_type": "markdown",
   "metadata": {},
   "source": [
    "$$\n",
    "\\begin{align}\n",
    "\\rho_{0_{oil}} &= \\text{The initial oil density at } 15^\\circ C \\text{ and measured in } kg / m^3 \\\\\n",
    "1000 &= \\text{The initial density of fresh water measured in } kg / m^3 \\\\\n",
    "API &= \\frac{141.5 \\cdot 1000}{\\rho_{0_{oil}} } - 131.5 \\\\\n",
    "\\end{align}\n",
    "$$"
   ]
  },
  {
   "cell_type": "markdown",
   "metadata": {},
   "source": [
    "Conversely, the initial density of the oil can be calculated, if necessary, from the API value"
   ]
  },
  {
   "cell_type": "markdown",
   "metadata": {},
   "source": [
    "$$\n",
    "\\begin{align}\n",
    "\\rho_{0_{oil}} &= \\frac{141.5}{131.5 + API} \\cdot 1000 \\\\\n",
    "\\end{align}\n",
    "$$"
   ]
  },
  {
   "cell_type": "markdown",
   "metadata": {},
   "source": [
    "### Some Examples\n",
    "\n",
    "Ok, let's apply this to some examples using records in our oil library.\n",
    "\n",
    "First we will import some things from our oil library that we will need."
   ]
  },
  {
   "cell_type": "code",
   "execution_count": 2,
   "metadata": {},
   "outputs": [
    {
     "name": "stderr",
     "output_type": "stream",
     "text": [
      "/usr/local/anaconda-python3/envs/opendrift-cicese/lib/python3.6/site-packages/scipy/optimize/minpack.py:794: OptimizeWarning: Covariance of the parameters could not be estimated\n",
      "  category=OptimizeWarning)\n"
     ]
    }
   ],
   "source": [
    "from oil_library import get_oil, get_oil_props, _get_db_session\n",
    "from oil_library.models import (Base, ImportedRecord, Oil,\n",
    "                                Density, Toxicity, Category)\n",
    "from oil_library.oil_props import OilProps\n",
    "\n",
    "# The session object can be queried to get individual records using SQLAlchemy's quering mechanisms\n",
    "# http://www.sqlalchemy.org/\n",
    "\n",
    "session = _get_db_session()"
   ]
  },
  {
   "cell_type": "markdown",
   "metadata": {},
   "source": [
    "Now we can query for an oil that we are interested in."
   ]
  },
  {
   "cell_type": "markdown",
   "metadata": {},
   "source": [
    "#### Example 1:  Estimating Density "
   ]
  },
  {
   "cell_type": "markdown",
   "metadata": {},
   "source": [
    "For the first example we will use a reasonably heavy oil for which we have no measured density values. (i.e. only API)"
   ]
  },
  {
   "cell_type": "code",
   "execution_count": 3,
   "metadata": {},
   "outputs": [
    {
     "name": "stdout",
     "output_type": "stream",
     "text": [
      "<Oil(\"BOSCAN, OIL & GAS\")>\n"
     ]
    }
   ],
   "source": [
    "oil_obj = (session.query(Oil)\n",
    "           .filter(Oil.name == 'BOSCAN, OIL & GAS')\n",
    "           .one())\n",
    "print (oil_obj)"
   ]
  },
  {
   "cell_type": "markdown",
   "metadata": {},
   "source": [
    "First, a little bit of background.  The records in the PyGnome oil library have been imported from a master copy of the NOAA oil library data, and the original values are stored in the 'imported' attribute of the oil object, so we can see the original imported data:"
   ]
  },
  {
   "cell_type": "code",
   "execution_count": 4,
   "metadata": {},
   "outputs": [
    {
     "name": "stdout",
     "output_type": "stream",
     "text": [
      "[]\n",
      "10.1\n"
     ]
    }
   ],
   "source": [
    "print (oil_obj.imported.densities)\n",
    "print (oil_obj.imported.api)"
   ]
  },
  {
   "cell_type": "markdown",
   "metadata": {},
   "source": [
    "Here we can see that the original imported record contains no measured densities, but has a valid API value.<br>\n",
    "And as discussed above, the density at $ 15^\\circ C $ in $kg/m^3$ can be converted from the API as follows:"
   ]
  },
  {
   "cell_type": "code",
   "execution_count": 5,
   "metadata": {},
   "outputs": [
    {
     "name": "stdout",
     "output_type": "stream",
     "text": [
      "999.2937853107345\n"
     ]
    }
   ],
   "source": [
    "density_at_15c = 141.5 / (131.5 + 10.1) * 1000\n",
    "print (density_at_15c)"
   ]
  },
  {
   "cell_type": "markdown",
   "metadata": {},
   "source": [
    "So for this oil, we give it a single density at $ 15^\\circ C $ since the imported record did not supply any."
   ]
  },
  {
   "cell_type": "code",
   "execution_count": 6,
   "metadata": {},
   "outputs": [
    {
     "name": "stdout",
     "output_type": "stream",
     "text": [
      "[<Density(999.2937853107345 kg/m^3 at 288.15K)>]\n",
      "10.1\n"
     ]
    }
   ],
   "source": [
    "print (oil_obj.densities)\n",
    "print (oil_obj.api)"
   ]
  },
  {
   "cell_type": "markdown",
   "metadata": {},
   "source": [
    "At this point it is worth mentioning that internally, we use temperatures that are measured in Kelvin.<br>\n",
    "So $ 15^\\circ C $ converted into Kelvin would be:"
   ]
  },
  {
   "cell_type": "markdown",
   "metadata": {},
   "source": [
    "$$\n",
    "\\begin{align}\n",
    "273.15 + 15^\\circ C &= 288.15^\\circ K\n",
    "\\end{align}\n",
    "$$"
   ]
  },
  {
   "cell_type": "markdown",
   "metadata": {},
   "source": [
    "#### Example 2:  Estimating API\n",
    "\n",
    "Ok, now we will examine an oil that has no API, but does in fact have some measured densities."
   ]
  },
  {
   "cell_type": "code",
   "execution_count": 7,
   "metadata": {},
   "outputs": [
    {
     "name": "stdout",
     "output_type": "stream",
     "text": [
      "<Oil(\"COOPER BASIN LIGHT NAPHTHA, SANTOS LTD\")>\n",
      "[<Density(660.0 kg/m^3 at 288.0K)>]\n",
      "None\n"
     ]
    }
   ],
   "source": [
    "oil_obj = (session.query(Oil)\n",
    "           .filter(Oil.name == 'COOPER BASIN LIGHT NAPHTHA, SANTOS LTD')\n",
    "           .one())\n",
    "print (oil_obj)\n",
    "print (oil_obj.imported.densities)\n",
    "print (oil_obj.imported.api)"
   ]
  },
  {
   "cell_type": "markdown",
   "metadata": {},
   "source": [
    "Here we can see that the original imported record contains a single measured density, but has no API value.<br>\n",
    "The API can be computed from the measured density.\n",
    "\n",
    "In this case, the measured density is a 288.15K, which is $ 15^\\circ C $, the standard tempuerature for API, so the conversion can be done directly.\n",
    "\n",
    "There are records in the oil library in which the densities are measured at temperatures quite far from the standard $ 15^\\circ C $ <br>\n",
    "\n",
    "In this case, the density at $ 15^\\circ C $ can be estimated from teh measured values using a standard expansion coefficient."
   ]
  },
  {
   "cell_type": "markdown",
   "metadata": {},
   "source": [
    "When interpolating a density value at a measured temperature to one at a desired temperature, we use the following formula(s):"
   ]
  },
  {
   "cell_type": "markdown",
   "metadata": {},
   "source": [
    "$$\n",
    "\\begin{align}\n",
    "k_{\\rho T} &= 0.008 K^{-1} \\cr\n",
    "T_{ref} &= \\text{our reference temperature} \\cr\n",
    "T_0 &= \\text{our desired temperature} \\cr\n",
    "\\rho_{ref} &= \\rho_0 \\cdot (1 - k_{\\rho T} \\cdot (T_{ref} - T_0)) \\cr\n",
    "&\\text{thus...} \\cr\n",
    "\\rho_0 &= {\\rho_{ref} \\over (1 - k_{\\rho T} \\cdot (T_{ref} - T_0))} \\cr\n",
    "\\end{align}\n",
    "$$"
   ]
  },
  {
   "cell_type": "markdown",
   "metadata": {},
   "source": [
    "Let's apply this method to our reference density."
   ]
  },
  {
   "cell_type": "code",
   "execution_count": 8,
   "metadata": {},
   "outputs": [
    {
     "name": "stdout",
     "output_type": "stream",
     "text": [
      "659.208949260887\n"
     ]
    }
   ],
   "source": [
    "density_at_temp = 660.0 / (1 - 0.008 * (288.0 - 288.15))\n",
    "print (density_at_temp)"
   ]
  },
  {
   "cell_type": "markdown",
   "metadata": {},
   "source": [
    "We now have the density at $ 15^\\circ C $, which we will use to estimate the API value.<br>\n",
    "And as it so happens, we have packaged this formula into a convenience function."
   ]
  },
  {
   "cell_type": "code",
   "execution_count": 9,
   "metadata": {},
   "outputs": [
    {
     "name": "stdout",
     "output_type": "stream",
     "text": [
      "660.0 288.0\n",
      "659.9208095028597\n"
     ]
    }
   ],
   "source": [
    "from oil_library.utilities.estimations import density_at_temp\n",
    "rho = oil_obj.densities[0].kg_m_3\n",
    "ref_temp = oil_obj.densities[0].ref_temp_k\n",
    "print (rho, ref_temp)\n",
    "density_at_15 = density_at_temp(rho, ref_temp, 288.15)\n",
    "print (density_at_15)"
   ]
  },
  {
   "cell_type": "code",
   "execution_count": 10,
   "metadata": {},
   "outputs": [
    {
     "name": "stdout",
     "output_type": "stream",
     "text": [
      "82.91966666666664\n",
      "82.91966666666664\n"
     ]
    }
   ],
   "source": [
    "api = (141.5 * 1000 / density_at_15) - 131.5\n",
    "print (api)\n",
    "\n",
    "# and the value in the processed record:\n",
    "print (oil_obj.api)"
   ]
  },
  {
   "cell_type": "markdown",
   "metadata": {},
   "source": [
    "...and as you can see, this is the API value that our oil object contains."
   ]
  },
  {
   "cell_type": "markdown",
   "metadata": {},
   "source": [
    "### Querying the database\n",
    "\n",
    "The datbase can be queried to find records of interest.\n",
    "\n",
    "a DB session was created above -- it can be accessed to find what is being looked for:"
   ]
  },
  {
   "cell_type": "code",
   "execution_count": 11,
   "metadata": {},
   "outputs": [
    {
     "data": {
      "text/plain": [
       "[<Oil(\"ALASKA NORTH SLOPE\")>,\n",
       " <Oil(\"ALASKA NORTH SLOPE, OIL & GAS\")>,\n",
       " <Oil(\"ALASKA NORTH SLOPE (MIDDLE PIPELINE, 1996)\")>,\n",
       " <Oil(\"ALASKA NORTH SLOPE (NORTHERN PIPELINE, 1996)\")>,\n",
       " <Oil(\"ALASKA NORTH SLOPE (SOUTHERN PIPELINE, 1996)\")>,\n",
       " <Oil(\"ALASKA NORTH SLOPE (MIDDLE PIPELINE, 1997)\")>,\n",
       " <Oil(\"ALASKA NORTH SLOPE (NORTHERN PIPELINE, 1997)\")>,\n",
       " <Oil(\"FUEL OIL NO.1 (JET B, ALASKA)\")>,\n",
       " <Oil(\"ALASKA NORTH SLOPE-PUMP STATION #9, BP\")>,\n",
       " <Oil(\"ALASKA NORTH SLOPE (1989)\")>,\n",
       " <Oil(\"ALASKA NORTH SLOPE (NORTHERN PIPELINE, 1999)\")>,\n",
       " <Oil(\"ALASKA NORTH SLOPE (SOUTHERN PIPELINE, 1999)\")>,\n",
       " <Oil(\"BUNKER C FUEL OIL (ALASKA)\")>,\n",
       " <Oil(\"DIESEL FUEL OIL (ALASKA)\")>,\n",
       " <Oil(\"JET B (ALASKA)\")>,\n",
       " <Oil(\"ALASKA NORTH SLOPE, BP\")>,\n",
       " <Oil(\"ALASKA NORTH SLOPE 2010\")>,\n",
       " <Oil(\"ALASKA NORTH SLOPE 2011\")>,\n",
       " <Oil(\"ALASKA NORTH SLOPE 2015\")>]"
      ]
     },
     "execution_count": 11,
     "metadata": {},
     "output_type": "execute_result"
    }
   ],
   "source": [
    "# all oils with \"alaska\" in the name\n",
    "session.query(Oil).filter(Oil.name.like(\"%alaska%\")).all()"
   ]
  },
  {
   "cell_type": "code",
   "execution_count": 12,
   "metadata": {},
   "outputs": [],
   "source": [
    "# all the oils as an iterable object\n",
    "oils = session.query(Oil)"
   ]
  },
  {
   "cell_type": "markdown",
   "metadata": {},
   "source": [
    "In this case, there are only three."
   ]
  },
  {
   "cell_type": "code",
   "execution_count": 13,
   "metadata": {},
   "outputs": [
    {
     "data": {
      "text/plain": [
       "[('ABSORPTION OIL', None),\n",
       " ('ARABIAN HEAVY, AMOCO', None),\n",
       " ('ARABIAN MEDIUM, AMOCO', None),\n",
       " ('BCF 17, AMOCO', None),\n",
       " ('BONNY MEDIUM, AMOCO', None),\n",
       " ('BOSCAN, AMOCO', None),\n",
       " ('BRENT SPAR', None),\n",
       " ('CORMORANT', None),\n",
       " ('DANMARK', None),\n",
       " ('DUNLIN', None),\n",
       " ('EMPIRE ISLAND, AMOCO', None),\n",
       " ('ESCRAVOS, AMOCO', None),\n",
       " ('FEDERATED', None),\n",
       " ('FLOTTA', None),\n",
       " ('FORCADOS, AMOCO', None),\n",
       " ('FORKED ISLAND TERMINAL, AMOCO', None),\n",
       " ('HIGH ISLAND, AMOCO', None),\n",
       " ('KIRKUK', None),\n",
       " ('KOLE MARINE, AMOCO', None),\n",
       " ('LIUHUA, AMOCO', None),\n",
       " ('MAYA, AMOCO', None),\n",
       " ('NIGERIAN EXP. B1', None),\n",
       " ('NIGERIAN LGT G', None),\n",
       " ('NIGERIAN LGT M', None),\n",
       " ('NIGERIAN LIGHT', None),\n",
       " ('NIGERIAN MEDIUM', None),\n",
       " ('OGUENDJO, AMOCO', None),\n",
       " ('OMAN', None),\n",
       " ('PECAN ISLAND, AMOCO', None),\n",
       " ('SANTA MARIA', None),\n",
       " ('SCHOONEBEEK', None),\n",
       " ('SIRTICA', None),\n",
       " ('SOYO', None),\n",
       " ('TIA JUANA PESADO', None),\n",
       " ('URAL', None),\n",
       " ('WEST NEDERLAND', None),\n",
       " ('WEYBURN-MIDALE', None),\n",
       " ('YOMBO, AMOCO', None),\n",
       " ('ZAKUM', None),\n",
       " ('ROSSIIELF, RUSSIAN JOINT STOCK CO', None),\n",
       " ('JET A-1,  MARITIME SAFETY AUTHORITY OF NEW ZEALAND', None),\n",
       " ('DUAL PURPOSE KEROSINE,  MARITIME SAFETY AUTHORITY OF NEW ZEALAND', None),\n",
       " ('BRENT, SUN', None),\n",
       " ('SANGA SANGA', None),\n",
       " ('MOTOR GASOLINE-PREMIUM UNLEADED, SHELL REFINING PTY', None),\n",
       " ('MOTOR GASOLINE-UNLEADED, SHELL REFINING PTY', None),\n",
       " ('MOTOR GASOLINE-LEADED, SHELL REFINING PTY', None),\n",
       " ('AUTOMOTIVE DIESEL FUEL, SHELL REFINING PTY', None),\n",
       " ('AVIATION TURBINE FUEL, SHELL REFINING PTY', None),\n",
       " ('MINERAL TURPS, SHELL REFINING PTY', None),\n",
       " ('WHITE SPIRIT, SHELL REFINING PTY', None),\n",
       " ('COOPER BASIN, SANTOS LTD', None),\n",
       " ('COOPER BASIN LIGHT NAPHTHA, SANTOS LTD', None),\n",
       " ('COOPER BASIN FULL RANGE NAPHTHA, SANTOS LTD', None),\n",
       " ('COOPER BASIN HEAVY NAPHTHA, SANTOS LTD', None),\n",
       " ('ALASKA NORTH SLOPE-PUMP STATION #9, BP', None),\n",
       " ('CHERVIL, NOVUS WA PTY LTD', None),\n",
       " ('CRACKER FEED, MOBIL OIL AUSTRALIA', None),\n",
       " ('COLD LAKE, OIL & GAS', None),\n",
       " ('ARGYLL, OIL & GAS', None),\n",
       " ('VIOSCA KNOLL BLOCK 990', None),\n",
       " ('MISSISSIPPI CANYON BLOCK 807', None),\n",
       " ('ARGYLL', None),\n",
       " ('BOW RIVER BLENDED (1999)', None),\n",
       " ('EVERDELL', None),\n",
       " ('FEDERATED (SOCSEX)', None),\n",
       " ('FUEL OIL NO.1 (JP-4)', None),\n",
       " ('FUEL OIL NO.1 (JP-6)', None),\n",
       " ('GARDEN BANKS BLOCK 426', None),\n",
       " ('GASOLINE (UNLEADED), SHELL', None),\n",
       " ('JET B', None),\n",
       " ('KOPANOAR (1999)', None),\n",
       " ('SWEET BLEND (1999)', None),\n",
       " ('CANOLA OIL', None),\n",
       " ('CRACKER FEED, AMSA', None),\n",
       " ('LOW SULPHUR WAXY RESIDUE, AMSA', None),\n",
       " ('JP-4', None),\n",
       " ('LUCKENBACH FUEL OIL', None),\n",
       " ('LISBURNE', None),\n",
       " ('ALASKA NORTH SLOPE 2015', None),\n",
       " ('POINT ARGUELLO HEAVY', None),\n",
       " ('*GENERIC MEDIUM CRUDE', None),\n",
       " ('*GENERIC HEAVY CRUDE', None),\n",
       " ('*GENERIC GASOLINE', None),\n",
       " ('ALVE', None),\n",
       " ('ALVHEIM BLEND', None),\n",
       " ('ALVHEIM BOA', None),\n",
       " ('ALVHEIM KAMELEON', None),\n",
       " ('ALVHEIM KNELER', None),\n",
       " ('AVALDSNES', None),\n",
       " ('BALDER', None),\n",
       " ('BALDER BLEND', None),\n",
       " ('BRAGE', None),\n",
       " ('BREAM', None),\n",
       " ('CAURUS', None),\n",
       " ('DRAUGEN', None),\n",
       " ('EKOFISK 2002', None),\n",
       " ('EKOFISK BLEND 2000', None),\n",
       " ('EKOFISK BLEND 2011', None),\n",
       " ('EKOFISK J', None),\n",
       " ('ELDFISK', None),\n",
       " ('ELDFISK B', None),\n",
       " ('ELDFISK BLEND 2011', None),\n",
       " ('ELDFISK KOMPLEKS', None),\n",
       " ('ELLI', None),\n",
       " ('ELLI SOUTH', None),\n",
       " ('EMBLA', None),\n",
       " ('FORSETI', None),\n",
       " ('FOSSEKALL', None),\n",
       " ('FRAM', None),\n",
       " ('FROY', None),\n",
       " ('GARANTIANA', None),\n",
       " ('GAUPE', None),\n",
       " ('GJOA', None),\n",
       " ('GLITNE', None),\n",
       " ('GOLIAT BLEND 50/50', None),\n",
       " ('GOLIAT BLEND 70/30', None),\n",
       " ('GOLIAT KOBBE', None),\n",
       " ('GOLIAT REALGRUNNEN', None),\n",
       " ('GRANE', None),\n",
       " ('GROSBEAK', None),\n",
       " ('GUDRUN', None),\n",
       " ('GULLFAKS A BLEND', None),\n",
       " ('GULLFAKS C BLEND', None),\n",
       " ('GULLFAKS SOR', None),\n",
       " ('GYDA', None),\n",
       " ('HAVIS', None),\n",
       " ('HEIDRUN EXPORT BLEND', None),\n",
       " ('HEIDRUN TILJE', None),\n",
       " ('HEIDRUN AaRE', None),\n",
       " ('HULDRA KONDENSAT', None),\n",
       " ('IFO-180LS', None),\n",
       " ('IFO-180NS', None),\n",
       " ('IFO-80LS', None),\n",
       " ('IFO-380LS', None),\n",
       " ('IVAR AASEN', None),\n",
       " ('JORDBAER', None),\n",
       " ('KRISTIN', None),\n",
       " ('KVITEBJORN', None),\n",
       " ('LAVRANS', None),\n",
       " ('LILLEFRIGG KONDENSAT', None),\n",
       " ('LINERLE', None),\n",
       " ('LUNO', None),\n",
       " ('LUNO II', None),\n",
       " ('MARIA', None),\n",
       " ('MIDGARD 1991', None),\n",
       " ('MORVIN', None),\n",
       " ('NJORD', None),\n",
       " ('NORNE 1997', None),\n",
       " ('NORNE BLEND', None),\n",
       " ('ORMEN LANGE KONDENSAT', None),\n",
       " ('OSEBERG A', None),\n",
       " ('OSEBERG SOR', None),\n",
       " ('OSEBERG OST', None),\n",
       " ('OSELVAR', None),\n",
       " ('RINGHORNE', None),\n",
       " ('SKARFJELL', None),\n",
       " ('SKARV', None),\n",
       " ('SKARV KONDENSAT', None),\n",
       " ('SKRUGARD', None),\n",
       " ('SLEIPNER KONDENSAT', None),\n",
       " ('SLEIPNER VEST', None),\n",
       " ('SMORBUKK', None),\n",
       " ('SMORBUKK KONDENSAT', None),\n",
       " ('SMORBUKK SOR', None),\n",
       " ('SNORRE B', None),\n",
       " ('SNORRE TLP', None),\n",
       " ('SNOHVIT KONDENSAT', None),\n",
       " ('STATFJORD A', None),\n",
       " ('STATFJORD B', None),\n",
       " ('STATFJORD C', None),\n",
       " ('STAER', None),\n",
       " ('TAMBAR', None),\n",
       " ('TAU', None),\n",
       " ('TOR', None),\n",
       " ('TORDIS', None),\n",
       " ('TRESTAKK', None),\n",
       " ('TRYM KONDENSAT', None),\n",
       " ('TYRIHANS NORD', None),\n",
       " ('TYRIHANS SOR', None),\n",
       " ('ULA', None),\n",
       " ('VALE', None),\n",
       " ('VALHALL', None),\n",
       " ('VARG', None),\n",
       " ('VESLEFRIKK', None),\n",
       " ('VIGDIS', None),\n",
       " ('VILJE', None),\n",
       " ('VISUND', None),\n",
       " ('VOLUND', None),\n",
       " ('VOLVE', None),\n",
       " ('WISTING', None),\n",
       " ('AaSGARD A', None),\n",
       " ('SVALIN', None),\n",
       " ('ALTA', None),\n",
       " ('DRIVIS', None),\n",
       " ('MARTIN LINGE CRUDE', None),\n",
       " ('MARTIN LINGE CONDENSATE', None),\n",
       " ('BRYNHILD CRUDE', None),\n",
       " ('BOYLA CRUDE', None),\n",
       " ('WISTING CENTRAL', None)]"
      ]
     },
     "execution_count": 13,
     "metadata": {},
     "output_type": "execute_result"
    }
   ],
   "source": [
    "# find the oils with no api in the original record -- quite a few.\n",
    "[(o.name, o.imported.api) for o in oils if o.imported.api is None]"
   ]
  },
  {
   "cell_type": "code",
   "execution_count": 14,
   "metadata": {},
   "outputs": [
    {
     "data": {
      "text/plain": [
       "[(34.715778301886814, [<Density(848.0 kg/m^3 at 293.0K)>]),\n",
       " (27.865968468468452, [<Density(888.0 kg/m^3 at 288.0K)>]),\n",
       " (30.233691428571404, [<Density(875.0 kg/m^3 at 288.0K)>]),\n",
       " (18.214778012685002, [<Density(946.0 kg/m^3 at 287.0K)>]),\n",
       " (27.686704161979748, [<Density(889.0 kg/m^3 at 288.0K)>]),\n",
       " (12.92899176954731, [<Density(972.0 kg/m^3 at 298.0K)>]),\n",
       " (37.50597122302159, [<Density(834.0 kg/m^3 at 293.0K)>]),\n",
       " (34.32468235294118, [<Density(850.0 kg/m^3 at 293.0K)>]),\n",
       " (29.21947548460662, [<Density(877.0 kg/m^3 at 293.0K)>]),\n",
       " (34.32468235294118, [<Density(850.0 kg/m^3 at 293.0K)>]),\n",
       " (33.43820512820511, [<Density(858.0 kg/m^3 at 288.0K)>]),\n",
       " (36.83083732057415, [<Density(836.0 kg/m^3 at 295.0K)>]),\n",
       " (39.208057901085624,\n",
       "  [<Density(841.0 kg/m^3 at 273.0K)>, <Density(829.0 kg/m^3 at 288.0K)>]),\n",
       " (34.9120188902007, [<Density(847.0 kg/m^3 at 293.0K)>]),\n",
       " (29.790616438356153, [<Density(876.0 kg/m^3 at 290.0K)>]),\n",
       " (42.99689272503079, [<Density(811.0 kg/m^3 at 288.0K)>]),\n",
       " (38.320311004784685, [<Density(836.0 kg/m^3 at 284.0K)>]),\n",
       " (35.503530805687234, [<Density(844.0 kg/m^3 at 293.0K)>]),\n",
       " (33.24619324796271, [<Density(859.0 kg/m^3 at 288.0K)>]),\n",
       " (18.553022269353136, [<Density(943.0 kg/m^3 at 289.0K)>]),\n",
       " (21.135233949945615, [<Density(919.0 kg/m^3 at 299.0K)>]),\n",
       " (28.671568181818174, [<Density(880.0 kg/m^3 at 293.0K)>]),\n",
       " (35.70163701067614, [<Density(843.0 kg/m^3 at 293.0K)>]),\n",
       " (33.35494736842105, [<Density(855.0 kg/m^3 at 293.0K)>]),\n",
       " (37.101650717703336, [<Density(836.0 kg/m^3 at 293.0K)>]),\n",
       " (24.938379578246384, [<Density(901.0 kg/m^3 at 293.0K)>]),\n",
       " (35.77775413711581, [<Density(846.0 kg/m^3 at 288.0K)>]),\n",
       " (33.93542253521127, [<Density(852.0 kg/m^3 at 293.0K)>]),\n",
       " (48.52104060913706, [<Density(788.0 kg/m^3 at 285.0K)>]),\n",
       " (22.0413725490196, [<Density(918.0 kg/m^3 at 293.0K)>]),\n",
       " (25.199889258028804, [<Density(903.0 kg/m^3 at 293.0K)>]),\n",
       " (41.44598773006135, [<Density(815.0 kg/m^3 at 293.0K)>]),\n",
       " (32.587287543655435, [<Density(859.0 kg/m^3 at 293.0K)>]),\n",
       " (11.307477203647409, [<Density(987.0 kg/m^3 at 293.0K)>]),\n",
       " (32.01621809744779, [<Density(862.0 kg/m^3 at 293.0K)>]),\n",
       " (20.060193548387105, [<Density(930.0 kg/m^3 at 293.0K)>]),\n",
       " (26.235932584269676, [<Density(890.0 kg/m^3 at 298.0K)>]),\n",
       " (17.725297872340434, [<Density(940.0 kg/m^3 at 299.0K)>]),\n",
       " (38.73065217391303, [<Density(828.0 kg/m^3 at 293.0K)>]),\n",
       " (23.502168674698794, [<Density(913.0 kg/m^3 at 288.0K)>]),\n",
       " (45.39622499999999, [<Density(800.0 kg/m^3 at 288.0K)>]),\n",
       " (44.9550872817955, [<Density(802.0 kg/m^3 at 288.0K)>]),\n",
       " (38.388331332533, [<Density(833.0 kg/m^3 at 288.0K)>]),\n",
       " (25.741088888888868, [<Density(900.0 kg/m^3 at 288.0K)>]),\n",
       " (58.96699865410497, [<Density(743.0 kg/m^3 at 288.0K)>]),\n",
       " (64.23579529737202, [<Density(723.0 kg/m^3 at 288.0K)>]),\n",
       " (61.82920765027322, [<Density(732.0 kg/m^3 at 288.0K)>]),\n",
       " (34.99056470588232, [<Density(850.0 kg/m^3 at 288.0K)>]),\n",
       " (47.18305555555554, [<Density(792.0 kg/m^3 at 288.0K)>]),\n",
       " (42.78199507389161, [<Density(812.0 kg/m^3 at 288.0K)>]),\n",
       " (49.23688378033205, [<Density(783.0 kg/m^3 at 288.0K)>]),\n",
       " (45.39622499999999, [<Density(800.0 kg/m^3 at 288.0K)>]),\n",
       " (82.91966666666664, [<Density(660.0 kg/m^3 at 288.0K)>]),\n",
       " (65.0513611111111, [<Density(720.0 kg/m^3 at 288.0K)>]),\n",
       " (59.73916216216216, [<Density(740.0 kg/m^3 at 288.0K)>]),\n",
       " (30.233691428571404,\n",
       "  [<Density(888.0 kg/m^3 at 274.0K)>, <Density(875.0 kg/m^3 at 288.0K)>]),\n",
       " (43.212320987654294, [<Density(810.0 kg/m^3 at 288.0K)>]),\n",
       " (24.52754134509371, [<Density(907.0 kg/m^3 at 288.0K)>]),\n",
       " (25.21869324473971, [<Density(903.0 kg/m^3 at 288.0K)>]),\n",
       " (37.98141317365267, [<Density(835.0 kg/m^3 at 288.0K)>]),\n",
       " (38.051362507116636,\n",
       "  [<Density(846.0 kg/m^3 at 273.0K)>,\n",
       "   <Density(834.0 kg/m^3 at 288.0K)>,\n",
       "   <Density(871.0 kg/m^3 at 298.0K)>]),\n",
       " (27.6837177551906,\n",
       "  [<Density(901.0 kg/m^3 at 273.0K)>,\n",
       "   <Density(889.0 kg/m^3 at 288.0K)>,\n",
       "   <Density(883.0 kg/m^3 at 298.0K)>]),\n",
       " (37.98141317365267, [<Density(835.0 kg/m^3 at 288.0K)>]),\n",
       " (26.973661814109704,\n",
       "  [<Density(900.0 kg/m^3 at 273.0K)>, <Density(893.0 kg/m^3 at 288.0K)>]),\n",
       " (44.07937965260544,\n",
       "  [<Density(819.0 kg/m^3 at 273.0K)>, <Density(806.0 kg/m^3 at 288.0K)>]),\n",
       " (39.208057901085624,\n",
       "  [<Density(841.0 kg/m^3 at 273.0K)>, <Density(829.0 kg/m^3 at 288.0K)>]),\n",
       " (55.93970860927149,\n",
       "  [<Density(767.0 kg/m^3 at 273.0K)>, <Density(755.0 kg/m^3 at 288.0K)>]),\n",
       " (45.39622499999999, [<Density(800.0 kg/m^3 at 288.0K)>]),\n",
       " (39.208057901085624,\n",
       "  [<Density(840.0 kg/m^3 at 273.0K)>, <Density(829.0 kg/m^3 at 288.0K)>]),\n",
       " (57.18930666666668, [<Density(750.0 kg/m^3 at 288.0K)>]),\n",
       " (55.44449141347425,\n",
       "  [<Density(769.0 kg/m^3 at 273.0K)>, <Density(757.0 kg/m^3 at 288.0K)>]),\n",
       " (25.1122, [<Density(900.0 kg/m^3 at 293.0K)>]),\n",
       " (38.79720818291213,\n",
       "  [<Density(840.0 kg/m^3 at 273.0K)>,\n",
       "   <Density(838.0 kg/m^3 at 278.0K)>,\n",
       "   <Density(835.0 kg/m^3 at 283.0K)>,\n",
       "   <Density(831.0 kg/m^3 at 288.0K)>]),\n",
       " (22.668502732240455, [<Density(915.0 kg/m^3 at 292.0K)>]),\n",
       " (24.52754134509371, [<Density(907.0 kg/m^3 at 288.0K)>]),\n",
       " (21.326112311015095, [<Density(926.0 kg/m^3 at 288.0K)>]),\n",
       " (55.93970860927149,\n",
       "  [<Density(767.0 kg/m^3 at 273.0K)>, <Density(755.0 kg/m^3 at 288.0K)>]),\n",
       " (12.905081632653065, [<Density(980.0 kg/m^3 at 288.0K)>]),\n",
       " (30.233691428571404, [<Density(875.0 kg/m^3 at 288.0K)>]),\n",
       " (32.29280092592592,\n",
       "  [<Density(875.0 kg/m^3 at 273.0K)>, <Density(864.0 kg/m^3 at 288.0K)>]),\n",
       " (18.253417989417983,\n",
       "  [<Density(956.0 kg/m^3 at 273.0K)>, <Density(945.0 kg/m^3 at 288.0K)>]),\n",
       " (29.67274453744014,\n",
       "  [<Density(890.0 kg/m^3 at 273.0K)>,\n",
       "   <Density(878.0 kg/m^3 at 288.0K)>,\n",
       "   <Density(876.0 kg/m^3 at 293.0K)>]),\n",
       " (19.693354700854684,\n",
       "  [<Density(946.0 kg/m^3 at 273.0K)>, <Density(936.0 kg/m^3 at 288.0K)>]),\n",
       " (57.18930666666668, [<Density(750.0 kg/m^3 at 288.0K)>]),\n",
       " (46.17039316668763, [<Density(796.1 kg/m^3 at 288.65K)>]),\n",
       " (36.88500000000002, [<Density(840.0 kg/m^3 at 288.65K)>]),\n",
       " (35.27679518924657, [<Density(848.1 kg/m^3 at 288.65K)>]),\n",
       " (34.904000000000025, [<Density(850.0 kg/m^3 at 288.65K)>]),\n",
       " (38.60631389055925, [<Density(831.5 kg/m^3 at 288.65K)>]),\n",
       " (27.246801346801362, [<Density(891.0 kg/m^3 at 288.65K)>]),\n",
       " (23.252078774617075, [<Density(914.0 kg/m^3 at 288.65K)>]),\n",
       " (32.20763888888891, [<Density(864.0 kg/m^3 at 288.65K)>]),\n",
       " (39.73898305084745, [<Density(826.0 kg/m^3 at 288.65K)>]),\n",
       " (33.61085180863478, [<Density(857.0 kg/m^3 at 288.65K)>]),\n",
       " (46.41622641509434, [<Density(795.0 kg/m^3 at 288.65K)>]),\n",
       " (40.36318347509115, [<Density(823.0 kg/m^3 at 288.65K)>]),\n",
       " (33.96958352831072, [<Density(854.8 kg/m^3 at 288.65K)>]),\n",
       " (34.767074174209455, [<Density(850.7 kg/m^3 at 288.65K)>]),\n",
       " (36.6847800237812, [<Density(841.0 kg/m^3 at 288.65K)>]),\n",
       " (35.69078014184396, [<Density(846.0 kg/m^3 at 288.65K)>]),\n",
       " (42.58418461538463, [<Density(812.5 kg/m^3 at 288.65K)>]),\n",
       " (34.12459016393444, [<Density(854.0 kg/m^3 at 288.65K)>]),\n",
       " (35.69078014184396, [<Density(846.0 kg/m^3 at 288.65K)>]),\n",
       " (36.48503562945368, [<Density(842.0 kg/m^3 at 288.65K)>]),\n",
       " (37.08569725864126, [<Density(839.0 kg/m^3 at 288.65K)>]),\n",
       " (37.28687350835324, [<Density(838.0 kg/m^3 at 288.65K)>]),\n",
       " (41.773796398382984, [<Density(816.3 kg/m^3 at 288.65K)>]),\n",
       " (22.91419213973799, [<Density(916.0 kg/m^3 at 288.65K)>]),\n",
       " (33.92576112412178, [<Density(854.0 kg/m^3 at 293.15K)>]),\n",
       " (34.904000000000025, [<Density(850.0 kg/m^3 at 288.65K)>]),\n",
       " (37.69066985645932, [<Density(836.0 kg/m^3 at 288.65K)>]),\n",
       " (30.58476517754869, [<Density(873.0 kg/m^3 at 288.65K)>]),\n",
       " (32.65313225058003, [<Density(862.0 kg/m^3 at 288.65K)>]),\n",
       " (37.69066985645932, [<Density(836.0 kg/m^3 at 288.65K)>]),\n",
       " (32.20763888888891, [<Density(864.0 kg/m^3 at 288.65K)>]),\n",
       " (38.62677411594902, [<Density(831.4 kg/m^3 at 288.65K)>]),\n",
       " (40.488570038910524, [<Density(822.4 kg/m^3 at 288.65K)>]),\n",
       " (46.08116760828628, [<Density(796.5 kg/m^3 at 288.65K)>]),\n",
       " (33.52555127756389, [<Density(857.1 kg/m^3 at 288.65K)>]),\n",
       " (18.652229299363057, [<Density(942.0 kg/m^3 at 288.65K)>]),\n",
       " (43.12148148148148, [<Density(810.0 kg/m^3 at 288.65K)>]),\n",
       " (40.154611650485435, [<Density(824.0 kg/m^3 at 288.65K)>]),\n",
       " (37.48853046594982, [<Density(837.0 kg/m^3 at 288.65K)>]),\n",
       " (37.893293413173666, [<Density(835.0 kg/m^3 at 288.65K)>]),\n",
       " (33.737616822429914, [<Density(856.0 kg/m^3 at 288.65K)>]),\n",
       " (40.321428571428555, [<Density(823.2 kg/m^3 at 288.65K)>]),\n",
       " (34.904000000000025, [<Density(850.0 kg/m^3 at 288.65K)>]),\n",
       " (27.068834080717494, [<Density(892.0 kg/m^3 at 288.65K)>]),\n",
       " (36.08696682464455, [<Density(844.0 kg/m^3 at 288.65K)>]),\n",
       " (21.246652267818575, [<Density(926.0 kg/m^3 at 288.65K)>]),\n",
       " (43.337330037082836, [<Density(809.0 kg/m^3 at 288.65K)>]),\n",
       " (13.86834532374101, [<Density(973.0 kg/m^3 at 288.65K)>]),\n",
       " (13.42151639344263, [<Density(976.0 kg/m^3 at 288.65K)>]),\n",
       " (16.453347280334754, [<Density(956.0 kg/m^3 at 288.65K)>]),\n",
       " (11.372121212121215, [<Density(990.0 kg/m^3 at 288.65K)>]),\n",
       " (37.28687350835324, [<Density(838.0 kg/m^3 at 288.65K)>]),\n",
       " (44.8633416458853, [<Density(802.0 kg/m^3 at 288.65K)>]),\n",
       " (46.86494325346786, [<Density(793.0 kg/m^3 at 288.65K)>]),\n",
       " (44.92933765747787, [<Density(801.7 kg/m^3 at 288.65K)>]),\n",
       " (47.76920152091256, [<Density(789.0 kg/m^3 at 288.65K)>]),\n",
       " (48.68267515923566, [<Density(785.0 kg/m^3 at 288.65K)>]),\n",
       " (17.231230283911685, [<Density(951.0 kg/m^3 at 288.65K)>]),\n",
       " (34.904000000000025, [<Density(850.0 kg/m^3 at 288.65K)>]),\n",
       " (34.708460634547606, [<Density(851.0 kg/m^3 at 288.65K)>]),\n",
       " (35.49338842975206, [<Density(847.0 kg/m^3 at 288.65K)>]),\n",
       " (53.63534031413613, [<Density(764.0 kg/m^3 at 288.65K)>]),\n",
       " (41.54061658918525, [<Density(817.4 kg/m^3 at 288.65K)>]),\n",
       " (37.893293413173666, [<Density(835.0 kg/m^3 at 288.65K)>]),\n",
       " (32.46292004634995, [<Density(863.0 kg/m^3 at 288.65K)>]),\n",
       " (31.528354080221277, [<Density(867.6 kg/m^3 at 288.65K)>]),\n",
       " (57.091200000000015, [<Density(750.0 kg/m^3 at 288.65K)>]),\n",
       " (25.310864745011116, [<Density(902.0 kg/m^3 at 288.65K)>]),\n",
       " (37.08569725864126, [<Density(839.0 kg/m^3 at 288.65K)>]),\n",
       " (36.48503562945368, [<Density(842.0 kg/m^3 at 288.65K)>]),\n",
       " (47.31592920353984, [<Density(791.0 kg/m^3 at 288.65K)>]),\n",
       " (38.913734939759024, [<Density(830.0 kg/m^3 at 288.65K)>]),\n",
       " (40.154611650485435, [<Density(824.0 kg/m^3 at 288.65K)>]),\n",
       " (32.988196301895584, [<Density(859.9 kg/m^3 at 288.65K)>]),\n",
       " (39.119300361881784, [<Density(829.0 kg/m^3 at 288.65K)>]),\n",
       " (30.891963260620003, [<Density(871.0 kg/m^3 at 288.65K)>]),\n",
       " (58.35691275167787, [<Density(745.0 kg/m^3 at 288.65K)>]),\n",
       " (23.483570646221267, [<Density(913.0 kg/m^3 at 288.65K)>]),\n",
       " (41.20256410256414, [<Density(819.0 kg/m^3 at 288.65K)>]),\n",
       " (44.424626865671655, [<Density(804.0 kg/m^3 at 288.65K)>]),\n",
       " (39.119300361881784, [<Density(829.0 kg/m^3 at 288.65K)>]),\n",
       " (39.73898305084745, [<Density(826.0 kg/m^3 at 288.65K)>]),\n",
       " (38.09640287769787, [<Density(834.0 kg/m^3 at 288.65K)>]),\n",
       " (54.34075679936933, [<Density(761.1 kg/m^3 at 288.65K)>]),\n",
       " (39.44923857868022, [<Density(827.4 kg/m^3 at 288.65K)>]),\n",
       " (39.30473372781066, [<Density(828.1 kg/m^3 at 288.65K)>]),\n",
       " (38.13708323338932, [<Density(833.8 kg/m^3 at 288.65K)>]),\n",
       " (31.65000576501788, [<Density(867.3 kg/m^3 at 288.65K)>]),\n",
       " (39.325362318840575, [<Density(828.0 kg/m^3 at 288.65K)>]),\n",
       " (34.7749706227967, [<Density(851.0 kg/m^3 at 288.65K)>]),\n",
       " (39.160472972973, [<Density(828.8 kg/m^3 at 288.65K)>]),\n",
       " (36.88500000000002, [<Density(840.0 kg/m^3 at 288.65K)>]),\n",
       " (38.62677411594902, [<Density(831.4 kg/m^3 at 288.65K)>]),\n",
       " (45.74736842105264, [<Density(798.0 kg/m^3 at 288.65K)>]),\n",
       " (29.799349982894313, [<Density(876.9 kg/m^3 at 288.65K)>]),\n",
       " (35.355491329479776, [<Density(847.7 kg/m^3 at 288.65K)>]),\n",
       " (38.483655810599686, [<Density(832.1 kg/m^3 at 288.65K)>]),\n",
       " (41.837500000000006, [<Density(816.0 kg/m^3 at 288.65K)>]),\n",
       " (36.62480684654702, [<Density(841.3 kg/m^3 at 288.65K)>]),\n",
       " (34.3187573270809, [<Density(853.0 kg/m^3 at 288.65K)>]),\n",
       " (39.94654545454546, [<Density(825.0 kg/m^3 at 288.65K)>]),\n",
       " (36.74479600333055, [<Density(840.7 kg/m^3 at 288.65K)>]),\n",
       " (36.36541656776643, [<Density(842.6 kg/m^3 at 288.65K)>]),\n",
       " (47.29332574895719, [<Density(791.1 kg/m^3 at 288.65K)>]),\n",
       " (32.96906976744185, [<Density(860.0 kg/m^3 at 288.65K)>]),\n",
       " (27.532381380706113, [<Density(889.4 kg/m^3 at 288.65K)>]),\n",
       " (35.88863905325442, [<Density(845.0 kg/m^3 at 288.65K)>]),\n",
       " (42.26339066339068, [<Density(814.0 kg/m^3 at 288.65K)>]),\n",
       " (22.190294438386047, [<Density(917.0 kg/m^3 at 293.15K)>]),\n",
       " (40.96916565900847, [<Density(827.0 kg/m^3 at 278.15K)>]),\n",
       " (38.705250596658686, [<Density(838.0 kg/m^3 at 278.15K)>]),\n",
       " (20.650537634408607, [<Density(930.0 kg/m^3 at 288.15K)>]),\n",
       " (42.33292383292385, [<Density(814.0 kg/m^3 at 288.15K)>]),\n",
       " (29.29545454545456, [<Density(880.0 kg/m^3 at 288.15K)>]),\n",
       " (30.214285714285722, [<Density(875.0 kg/m^3 at 288.15K)>]),\n",
       " (38.705250596658686, [<Density(838.0 kg/m^3 at 278.15K)>])]"
      ]
     },
     "execution_count": 14,
     "metadata": {},
     "output_type": "execute_result"
    }
   ],
   "source": [
    "# find the oils with no api in the original record\n",
    "# but get their measured densities \n",
    "# the api has been computed from the measured density\n",
    "[(o.api, o.densities) for o in oils if o.imported.api is None]"
   ]
  },
  {
   "cell_type": "markdown",
   "metadata": {},
   "source": [
    "Many are at 288.15K (15C), the standard temp for API, but not all are."
   ]
  },
  {
   "cell_type": "markdown",
   "metadata": {},
   "source": [
    "For one that is not, the API was computed from the measured density using the:\n",
    "\n",
    "`oil_library.utilities.estimations.density_at_temp()`\n",
    "\n",
    "function -- which is a linear interpolation based on a \"representative\" coefficient of thermal expansion.\n",
    "\n",
    "NOTE: we need a reference for that value (it is currently 0.0008 1/C"
   ]
  },
  {
   "cell_type": "markdown",
   "metadata": {},
   "source": [
    "## Comparing approximation to measured values\n",
    "\n",
    "## Interpolation:\n",
    "\n",
    "When there are multiple measured values, the value at a given temp is computed by interpolation\n",
    "\n"
   ]
  },
  {
   "cell_type": "code",
   "execution_count": 15,
   "metadata": {},
   "outputs": [
    {
     "data": {
      "text/plain": [
       "['AVALON',\n",
       " 'GREEN CANYON BLOCK 109',\n",
       " 'LOW SULPHUR WAXY GAS OIL',\n",
       " 'LOW SULPHUR WAXY RESIDUUM',\n",
       " 'MAIN PASS BLOCK 306',\n",
       " 'MISSISSIPPI CANYON BLOCK 194',\n",
       " 'SHIP SHOAL BLOCK 239',\n",
       " 'SHIP SHOAL BLOCK 269',\n",
       " 'SOUTH PASS BLOCK 60',\n",
       " 'SOUTH PASS BLOCK 67',\n",
       " 'SOUTH PASS BLOCK 93',\n",
       " 'SOUTH TIMBALIER BLOCK 130',\n",
       " 'WEST DELTA BLOCK 30',\n",
       " 'WEST DELTA BLOCK 97',\n",
       " 'VIOSCA KNOLL BLOCK 990',\n",
       " 'MISSISSIPPI CANYON BLOCK 807',\n",
       " 'AVALON',\n",
       " 'COAL OIL POINT SEEP OIL',\n",
       " 'LAGO TRECO',\n",
       " 'LOW SULPHUR WAXY GAS OIL',\n",
       " 'LOW SULPHUR WAXY RESIDUUM',\n",
       " 'MAYA (1997)',\n",
       " 'ORIENTE (1999)',\n",
       " 'SAKHALIN',\n",
       " 'SOCKEYE COMINGLED',\n",
       " '*GENERIC MEDIUM CRUDE',\n",
       " '*GENERIC FUEL OIL No.2',\n",
       " '*GENERIC HOME HEATING OIL',\n",
       " '*GENERIC FUEL OIL No. 6',\n",
       " '*GENERIC BUNKER C',\n",
       " '*GENERIC HEAVY FUEL OIL']"
      ]
     },
     "execution_count": 15,
     "metadata": {},
     "output_type": "execute_result"
    }
   ],
   "source": [
    "# iterate through all oils to find the ones with 3 density values\n",
    "[o.name for o in oils if len(o.densities) == 3]"
   ]
  },
  {
   "cell_type": "code",
   "execution_count": 42,
   "metadata": {},
   "outputs": [
    {
     "name": "stdout",
     "output_type": "stream",
     "text": [
      "<Oil(\"*GENERIC BUNKER C\")>\n",
      "[<Density(980.0 kg/m^3 at 273.0K)>, <Density(976.0 kg/m^3 at 278.0K)>, <Density(969.0 kg/m^3 at 288.0K)>]\n",
      "14.1\n",
      "14.1\n"
     ]
    }
   ],
   "source": [
    "# Picking one of those:\n",
    "#oil = (session.query(Oil).filter(Oil.name == 'BUNKER C FUEL OIL').one())\n",
    "oil = (session.query(Oil).filter(Oil.name == '*GENERIC BUNKER C').one())\n",
    "#oil = oil_library.get_oil(\"AD00208\")\n",
    "print (oil)\n",
    "print (oil.densities)\n",
    "print (oil.imported.api)\n",
    "print (oil.api)\n",
    "\n",
    "    "
   ]
  },
  {
   "cell_type": "markdown",
   "metadata": {},
   "source": [
    "Note that the api was in the original data, but that it doesn't quite match the density at 288K:"
   ]
  },
  {
   "cell_type": "code",
   "execution_count": 17,
   "metadata": {},
   "outputs": [
    {
     "name": "stdout",
     "output_type": "stream",
     "text": [
      "14.526831785345735\n",
      "(971.8406593406594, 288.15)\n",
      "14.099999999999966\n"
     ]
    }
   ],
   "source": [
    "from oil_library.utilities.estimations import api_from_density, density_from_api\n",
    "print (api_from_density(969))\n",
    "print (density_from_api(14.1))\n",
    "print (api_from_density(density_from_api(14.1)[0]))\n"
   ]
  },
  {
   "cell_type": "code",
   "execution_count": 18,
   "metadata": {},
   "outputs": [
    {
     "data": {
      "text/plain": [
       "1.0029308565531476"
      ]
     },
     "execution_count": 18,
     "metadata": {},
     "output_type": "execute_result"
    }
   ],
   "source": [
    "971.84 / 969.0"
   ]
  },
  {
   "cell_type": "markdown",
   "metadata": {},
   "source": [
    "It's only 0.2 percent different but more than floating point error and will show up if we show more than 2 significant figures -- but maybe should be normalized on import?\n",
    "\n",
    "As it is, when the density is queried at 288.15, it ends up slighlty different than the measured value:"
   ]
  },
  {
   "cell_type": "code",
   "execution_count": 19,
   "metadata": {},
   "outputs": [
    {
     "data": {
      "text/plain": [
       "968.8837339519258"
      ]
     },
     "execution_count": 19,
     "metadata": {},
     "output_type": "execute_result"
    }
   ],
   "source": [
    "density_at_temp(969.0, 288.0, 288.15)"
   ]
  },
  {
   "cell_type": "markdown",
   "metadata": {},
   "source": [
    "So the calculated density will be different than the density converted directly from the api:"
   ]
  },
  {
   "cell_type": "code",
   "execution_count": 20,
   "metadata": {},
   "outputs": [
    {
     "name": "stdout",
     "output_type": "stream",
     "text": [
      "(971.8406593406594, 288.15)\n"
     ]
    }
   ],
   "source": [
    "print (density_from_api(14.1))"
   ]
  },
  {
   "cell_type": "markdown",
   "metadata": {},
   "source": [
    "**NOTE:** This really should get normalized in the database."
   ]
  },
  {
   "cell_type": "markdown",
   "metadata": {},
   "source": [
    "### interpolation for multiple measured densities\n",
    "\n",
    "Using an example oil with multiple values (there are not many of them):\n",
    "\n",
    "\"BUNKER C FUEL OIL\"\n",
    "\n",
    "for a range of environmentally relevant tmeperatures 0C -- 30C (273.15, 303.16)\n",
    "\n"
   ]
  },
  {
   "cell_type": "code",
   "execution_count": 30,
   "metadata": {},
   "outputs": [
    {
     "data": {
      "text/plain": [
       "[<Density(986.0 kg/m^3 at 273.0K)>, <Density(974.0 kg/m^3 at 288.0K)>]"
      ]
     },
     "execution_count": 30,
     "metadata": {},
     "output_type": "execute_result"
    }
   ],
   "source": [
    "import oil_library\n",
    "temps = np.linspace(273, 300)\n",
    "# oil = oil_library.get_oil(\"BUNKER C FUEL OIL\")\n",
    "oil = oil_library.get_oil(\"AD00208\")\n",
    "\n",
    "# it's got three densities\n",
    "oil.densities"
   ]
  },
  {
   "cell_type": "code",
   "execution_count": 32,
   "metadata": {},
   "outputs": [],
   "source": [
    "# the measured values\n",
    "densities = oil.densities\n",
    "ref_t = [d.ref_temp_k for d in densities]\n",
    "ref_d = [d.kg_m_3 for d in densities]\n",
    "\n",
    "# the estimated values\n",
    "# we want a oil_props object for this\n",
    "# oil_props = oil_library.get_oil_props(\"BUNKER C FUEL OIL\")\n",
    "oil_props = oil_library.get_oil_props(\"AD00208\")\n",
    "densities = [oil_props.density_at_temp(t) for t in temps]\n"
   ]
  },
  {
   "cell_type": "code",
   "execution_count": 33,
   "metadata": {},
   "outputs": [
    {
     "data": {
      "text/plain": [
       "Text(0,0.5,'density ($kg/m^3$)')"
      ]
     },
     "execution_count": 33,
     "metadata": {},
     "output_type": "execute_result"
    },
    {
     "data": {
      "image/png": "[encoded data removed]",
      "text/plain": [
       "<Figure size 432x288 with 1 Axes>"
      ]
     },
     "metadata": {
      "needs_background": "light"
     },
     "output_type": "display_data"
    }
   ],
   "source": [
    "fig, ax = plt.subplots()\n",
    "ax.plot(ref_t, ref_d, 'o')\n",
    "ax.plot(temps, densities, '-')\n",
    "ax.set_xlabel('temp (K)')\n",
    "ax.set_ylabel('density ($kg/m^3$)')"
   ]
  },
  {
   "cell_type": "markdown",
   "metadata": {},
   "source": [
    "**NOTE:** The slope looks pretty good, but there is a kink between the second and third points. I think that's because the code finds the nearest value, and then extrapolates using teh standard expansion coeff -- rather than interpolation between these values."
   ]
  },
  {
   "cell_type": "markdown",
   "metadata": {},
   "source": [
    "## trying the slope against oils with two density values."
   ]
  },
  {
   "cell_type": "code",
   "execution_count": 35,
   "metadata": {},
   "outputs": [
    {
     "ename": "ZeroDivisionError",
     "evalue": "float division by zero",
     "output_type": "error",
     "traceback": [
      "\u001b[0;31m---------------------------------------------------------------------------\u001b[0m",
      "\u001b[0;31mZeroDivisionError\u001b[0m                         Traceback (most recent call last)",
      "\u001b[0;32m<ipython-input-35-42f5195d3219>\u001b[0m in \u001b[0;36m<module>\u001b[0;34m()\u001b[0m\n\u001b[1;32m     18\u001b[0m     \u001b[0;32mreturn\u001b[0m \u001b[0mexp_coeff\u001b[0m\u001b[0;34m\u001b[0m\u001b[0m\n\u001b[1;32m     19\u001b[0m \u001b[0;34m\u001b[0m\u001b[0m\n\u001b[0;32m---> 20\u001b[0;31m \u001b[0mcoeffs\u001b[0m \u001b[0;34m=\u001b[0m \u001b[0;34m[\u001b[0m\u001b[0mcompute_exp_coeff\u001b[0m\u001b[0;34m(\u001b[0m\u001b[0moil\u001b[0m\u001b[0;34m)\u001b[0m \u001b[0;32mfor\u001b[0m \u001b[0moil\u001b[0m \u001b[0;32min\u001b[0m \u001b[0moils\u001b[0m\u001b[0;34m]\u001b[0m\u001b[0;34m\u001b[0m\u001b[0m\n\u001b[0m\u001b[1;32m     21\u001b[0m \u001b[0mprint\u001b[0m \u001b[0;34m(\u001b[0m\u001b[0mcoeffs\u001b[0m\u001b[0;34m)\u001b[0m\u001b[0;34m\u001b[0m\u001b[0m\n\u001b[1;32m     22\u001b[0m \u001b[0mprint\u001b[0m \u001b[0;34m(\u001b[0m\u001b[0;34m\"mean:\"\u001b[0m\u001b[0;34m,\u001b[0m \u001b[0mnp\u001b[0m\u001b[0;34m.\u001b[0m\u001b[0maverage\u001b[0m\u001b[0;34m(\u001b[0m\u001b[0mcoeffs\u001b[0m\u001b[0;34m)\u001b[0m\u001b[0;34m)\u001b[0m\u001b[0;34m\u001b[0m\u001b[0m\n",
      "\u001b[0;32m<ipython-input-35-42f5195d3219>\u001b[0m in \u001b[0;36m<listcomp>\u001b[0;34m(.0)\u001b[0m\n\u001b[1;32m     18\u001b[0m     \u001b[0;32mreturn\u001b[0m \u001b[0mexp_coeff\u001b[0m\u001b[0;34m\u001b[0m\u001b[0m\n\u001b[1;32m     19\u001b[0m \u001b[0;34m\u001b[0m\u001b[0m\n\u001b[0;32m---> 20\u001b[0;31m \u001b[0mcoeffs\u001b[0m \u001b[0;34m=\u001b[0m \u001b[0;34m[\u001b[0m\u001b[0mcompute_exp_coeff\u001b[0m\u001b[0;34m(\u001b[0m\u001b[0moil\u001b[0m\u001b[0;34m)\u001b[0m \u001b[0;32mfor\u001b[0m \u001b[0moil\u001b[0m \u001b[0;32min\u001b[0m \u001b[0moils\u001b[0m\u001b[0;34m]\u001b[0m\u001b[0;34m\u001b[0m\u001b[0m\n\u001b[0m\u001b[1;32m     21\u001b[0m \u001b[0mprint\u001b[0m \u001b[0;34m(\u001b[0m\u001b[0mcoeffs\u001b[0m\u001b[0;34m)\u001b[0m\u001b[0;34m\u001b[0m\u001b[0m\n\u001b[1;32m     22\u001b[0m \u001b[0mprint\u001b[0m \u001b[0;34m(\u001b[0m\u001b[0;34m\"mean:\"\u001b[0m\u001b[0;34m,\u001b[0m \u001b[0mnp\u001b[0m\u001b[0;34m.\u001b[0m\u001b[0maverage\u001b[0m\u001b[0;34m(\u001b[0m\u001b[0mcoeffs\u001b[0m\u001b[0;34m)\u001b[0m\u001b[0;34m)\u001b[0m\u001b[0;34m\u001b[0m\u001b[0m\n",
      "\u001b[0;32m<ipython-input-35-42f5195d3219>\u001b[0m in \u001b[0;36mcompute_exp_coeff\u001b[0;34m(oil)\u001b[0m\n\u001b[1;32m     15\u001b[0m \u001b[0;34m\u001b[0m\u001b[0m\n\u001b[1;32m     16\u001b[0m     \u001b[0;31m# 1000 to convert to SG (close enough, anyway)\u001b[0m\u001b[0;34m\u001b[0m\u001b[0;34m\u001b[0m\u001b[0m\n\u001b[0;32m---> 17\u001b[0;31m     \u001b[0mexp_coeff\u001b[0m \u001b[0;34m=\u001b[0m \u001b[0;34m-\u001b[0m \u001b[0;34m(\u001b[0m\u001b[0md2\u001b[0m\u001b[0;34m/\u001b[0m\u001b[0;36m1000\u001b[0m \u001b[0;34m-\u001b[0m \u001b[0md1\u001b[0m\u001b[0;34m/\u001b[0m\u001b[0;36m1000\u001b[0m\u001b[0;34m)\u001b[0m \u001b[0;34m/\u001b[0m \u001b[0;34m(\u001b[0m\u001b[0mt2\u001b[0m\u001b[0;34m-\u001b[0m\u001b[0mt1\u001b[0m\u001b[0;34m)\u001b[0m\u001b[0;34m\u001b[0m\u001b[0m\n\u001b[0m\u001b[1;32m     18\u001b[0m     \u001b[0;32mreturn\u001b[0m \u001b[0mexp_coeff\u001b[0m\u001b[0;34m\u001b[0m\u001b[0m\n\u001b[1;32m     19\u001b[0m \u001b[0;34m\u001b[0m\u001b[0m\n",
      "\u001b[0;31mZeroDivisionError\u001b[0m: float division by zero"
     ]
    }
   ],
   "source": [
    "# all the oils with two density values:\n",
    "oils = [o for o in oils if len(o.densities) == 2]\n",
    "\n",
    "# get all their densities with temps\n",
    "oils[0].densities\n",
    "\n",
    "def compute_exp_coeff(oil):\n",
    "    \"\"\"\n",
    "    compute the exansion coeff for two known densities\n",
    "    \"\"\"\n",
    "    d1 = oil.densities[0].kg_m_3\n",
    "    t1 = oil.densities[0].ref_temp_k\n",
    "    d2 = oil.densities[1].kg_m_3\n",
    "    t2 = oil.densities[1].ref_temp_k\n",
    "\n",
    "    # 1000 to convert to SG (close enough, anyway)\n",
    "    exp_coeff = - (d2/1000 - d1/1000) / (t2-t1)\n",
    "    return exp_coeff\n",
    "\n",
    "coeffs = [compute_exp_coeff(oil) for oil in oils]\n",
    "print (coeffs)\n",
    "print (\"mean:\", np.average(coeffs))\n",
    "print (\"standard deviation:\", np.std(coeffs))\n",
    "print (\"minimum:\", np.min(coeffs))\n",
    "print (\"maximum:\", np.max(coeffs))\n",
    "print (\"number of samples:\", len(coeffs))"
   ]
  },
  {
   "cell_type": "markdown",
   "metadata": {},
   "source": [
    "#### These are more or less in the same ballpark with one outlier - let's look at that one:"
   ]
  },
  {
   "cell_type": "code",
   "execution_count": 36,
   "metadata": {},
   "outputs": [
    {
     "name": "stdout",
     "output_type": "stream",
     "text": [
      "ALASKA NORTH SLOPE\n",
      "api: 26.8\n",
      "<Density(904.0 kg/m^3 at 273.0K)>\n",
      "<Density(893.87239418825 kg/m^3 at 288.15K)>\n",
      "quality index: 0.5151515151515151\n"
     ]
    }
   ],
   "source": [
    "\n",
    "minimum = oils[1]\n",
    "print (minimum.name)\n",
    "print (\"api:\", minimum.api)\n",
    "# meaasured densities\n",
    "for d in minimum.densities:\n",
    "    print (d)\n",
    "print (\"quality index:\", minimum.quality_index)"
   ]
  },
  {
   "cell_type": "markdown",
   "metadata": {},
   "source": [
    "Nothing looks off here -- odd."
   ]
  },
  {
   "cell_type": "code",
   "execution_count": null,
   "metadata": {},
   "outputs": [],
   "source": [
    "\n"
   ]
  }
 ],
 "metadata": {
  "kernelspec": {
   "display_name": "Python 3",
   "language": "python",
   "name": "python3"
  },
  "language_info": {
   "codemirror_mode": {
    "name": "ipython",
    "version": 3
   },
   "file_extension": ".py",
   "mimetype": "text/x-python",
   "name": "python",
   "nbconvert_exporter": "python",
   "pygments_lexer": "ipython3",
   "version": "3.6.6"
  }
 },
 "nbformat": 4,
 "nbformat_minor": 1
}
